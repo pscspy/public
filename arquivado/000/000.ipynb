{
  "nbformat": 4,
  "nbformat_minor": 0,
  "metadata": {
    "colab": {
      "provenance": [],
      "authorship_tag": "ABX9TyNip3d2hOnLENuzO/oy4pip"
    },
    "kernelspec": {
      "name": "python3",
      "display_name": "Python 3"
    },
    "language_info": {
      "name": "python"
    }
  },
  "cells": [
    {
      "cell_type": "markdown",
      "source": [
        "> # Caio S. P.\n",
        ">>  (placeholder)"
      ],
      "metadata": {
        "id": "VGQmg3ih0rpf"
      }
    }
  ]
}