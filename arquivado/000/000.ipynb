{
  "nbformat": 4,
  "nbformat_minor": 0,
  "metadata": {
    "colab": {
      "provenance": [],
      "authorship_tag": "ABX9TyNu5bfZ3wr/SqmI7s2CAbh4"
    },
    "kernelspec": {
      "name": "python3",
      "display_name": "Python 3"
    },
    "language_info": {
      "name": "python"
    }
  },
  "cells": [
    {
      "cell_type": "markdown",
      "source": [
        "> # Caio S. P.\n",
        ">>  (placeholder)"
      ],
      "metadata": {
        "id": "VGQmg3ih0rpf"
      }
    },
    {
      "cell_type": "code",
      "source": [],
      "metadata": {
        "id": "wXCLtUJB7hCn"
      },
      "execution_count": null,
      "outputs": []
    }
  ]
}